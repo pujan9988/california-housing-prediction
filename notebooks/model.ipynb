{
  "nbformat": 4,
  "nbformat_minor": 0,
  "metadata": {
    "colab": {
      "provenance": []
    },
    "kernelspec": {
      "name": "python3",
      "display_name": "Python 3"
    },
    "language_info": {
      "name": "python"
    }
  },
  "cells": [
    {
      "cell_type": "markdown",
      "source": [
        "Trying out the different models: **Linear regression, Linear support vector regressor, random forest\n",
        "regressor, gradient boosting regressor**"
      ],
      "metadata": {
        "id": "I-1DjQQnjhfk"
      }
    },
    {
      "cell_type": "code",
      "source": [
        "import pandas as pd\n",
        "import os\n",
        "import random\n",
        "\n",
        "from sklearn.linear_model import LinearRegression\n",
        "from sklearn.svm import LinearSVR\n",
        "from sklearn.ensemble import RandomForestRegressor\n",
        "from sklearn.ensemble import GradientBoostingRegressor\n",
        "\n",
        "\n",
        "from sklearn.metrics import r2_score,mean_squared_error\n",
        "from sklearn.model_selection import train_test_split,KFold,cross_val_score\n",
        "from sklearn.preprocessing import StandardScaler\n",
        "\n",
        "# current_script_dir = os.path.dirname(__file__)\n",
        "# csv_path = os.path.join(current_script_dir,\"../data/cal_housing.csv\")\n",
        "\n",
        "df = pd.read_csv(\"/content/cal_housing_tuned.csv\")\n",
        "df1 = df.iloc[:20000,:]\n",
        "\n",
        "X = df1.drop(\"medianHouseValue\",axis=1).values\n",
        "y = df1[\"medianHouseValue\"].values\n",
        "\n",
        "\n",
        "X_train, X_test, y_train, y_test = train_test_split(\n",
        "    X, y, test_size=0.2, random_state=44)\n",
        "\n",
        "\n",
        "\n",
        "scaler = StandardScaler()\n",
        "scaler.fit(X_train)\n",
        "X_train_scaled = scaler.transform(X_train)\n",
        "X_test_scaled = scaler.transform(X_test)\n",
        "\n",
        "LinReg = LinearRegression()\n",
        "svm = LinearSVR(max_iter=10000,C=11,random_state=42)\n",
        "ranfor = RandomForestRegressor(n_estimators=102, random_state=42)\n",
        "gradboost = GradientBoostingRegressor(n_estimators=90, learning_rate=0.2, max_depth=3, random_state=42)\n",
        "\n",
        "models = [LinReg,svm,ranfor,gradboost]\n",
        "\n",
        "for model in models:\n",
        "\n",
        "    model.fit(X_train_scaled,y_train)\n",
        "    y_pred = model.predict(X_test_scaled)\n",
        "\n",
        "    mse = mean_squared_error(y_test, y_pred)\n",
        "    r2 = r2_score(y_test, y_pred)\n",
        "    print(f\"Performance of {model} :- \")\n",
        "    print(f\"Mean Squared Error: {mse}\")\n",
        "    print(f\"R-squared: {r2}\\n\")\n"
      ],
      "metadata": {
        "id": "hTwDwhjBGL1D",
        "colab": {
          "base_uri": "https://localhost:8080/"
        },
        "outputId": "121101b1-03be-4175-f721-932004c98e4c"
      },
      "execution_count": null,
      "outputs": [
        {
          "output_type": "stream",
          "name": "stdout",
          "text": [
            "Performance of LinearRegression() :- \n",
            "Mean Squared Error: 2.04583384540475\n",
            "R-squared: 0.6798062154405788\n",
            "\n",
            "Performance of LinearSVR(C=11, max_iter=10000, random_state=42) :- \n",
            "Mean Squared Error: 2.066316844753074\n",
            "R-squared: 0.6766004179144507\n",
            "\n",
            "Performance of RandomForestRegressor(n_estimators=102, random_state=42) :- \n",
            "Mean Squared Error: 0.9358553149639114\n",
            "R-squared: 0.8535291339658819\n",
            "\n",
            "Performance of GradientBoostingRegressor(learning_rate=0.2, n_estimators=90, random_state=42) :- \n",
            "Mean Squared Error: 1.1294339240312008\n",
            "R-squared: 0.8232321146912099\n",
            "\n"
          ]
        }
      ]
    },
    {
      "cell_type": "markdown",
      "source": [
        "After testing with different values and fine tuning the hyperparameters, we can see that **Random Forest Regression** and **gradient boosting regression** are performing well and has better performance than the other. In fact, random forest has better MSE and r2 score than that of gradient boosting. so, we will select the **Random forest regressor** model.\n",
        "\n",
        "Now, we will perform **k-fold cross validation** to ensure that our model has generalized the data well without leading to overfitting."
      ],
      "metadata": {
        "id": "nG-sR-cwjyHh"
      }
    },
    {
      "cell_type": "code",
      "source": [
        "\n",
        "scalers = StandardScaler()\n",
        "X_scaled = scalers.fit_transform(X)\n",
        "\n",
        "ran = RandomForestRegressor(n_estimators=102, random_state=42)\n",
        "\n",
        "kf = KFold(n_splits=5, shuffle=True, random_state=42)\n",
        "\n",
        "# Performing k-fold cross-validation\n",
        "mse_scores = cross_val_score(ran, X_scaled, y, cv=kf, scoring='neg_mean_squared_error')\n",
        "r2_scores = cross_val_score(ran, X_scaled, y, cv=kf, scoring='r2')\n",
        "\n",
        "mse_scores = -mse_scores\n",
        "\n",
        "for fold, (mse, r2) in enumerate(zip(mse_scores, r2_scores), 1):\n",
        "    print(f\"Fold {fold}:-\")\n",
        "    print(f\"Mean Squared Error: {mse}\")\n",
        "    print(f\"R-squared: {r2}\\n\")\n",
        "\n",
        "print(\"Average Performance Across Folds:\")\n",
        "print(f\"Mean Squared Error: {mse_scores.mean()}\")\n",
        "print(f\"R-squared: {r2_scores.mean()}\")\n",
        "\n"
      ],
      "metadata": {
        "id": "DYO3Uqw2j6pP",
        "colab": {
          "base_uri": "https://localhost:8080/"
        },
        "outputId": "bb7dfeb7-fc1f-4c9e-ff6e-6c73d6c3496e"
      },
      "execution_count": null,
      "outputs": [
        {
          "output_type": "stream",
          "name": "stdout",
          "text": [
            "Fold 1:-\n",
            "Mean Squared Error: 1.0542459376397064\n",
            "R-squared: 0.8415318403339744\n",
            "\n",
            "Fold 2:-\n",
            "Mean Squared Error: 0.985438442904238\n",
            "R-squared: 0.8444815878484031\n",
            "\n",
            "Fold 3:-\n",
            "Mean Squared Error: 0.9662284897782001\n",
            "R-squared: 0.8474213614569975\n",
            "\n",
            "Fold 4:-\n",
            "Mean Squared Error: 0.9694928386070533\n",
            "R-squared: 0.849735375558331\n",
            "\n",
            "Fold 5:-\n",
            "Mean Squared Error: 0.9523016326051417\n",
            "R-squared: 0.8509171520170596\n",
            "\n",
            "Average Performance Across Folds:\n",
            "Mean Squared Error: 0.9855414683068678\n",
            "R-squared: 0.8468174634429531\n"
          ]
        }
      ]
    },
    {
      "cell_type": "markdown",
      "source": [
        "From the above result, we can clearly see the performance of the model is consistent accross all folds. so we conclude that our model has generalized the data well."
      ],
      "metadata": {
        "id": "E6s18glVk7Sw"
      }
    },
    {
      "cell_type": "markdown",
      "source": [
        "Now, we will try to predict the some values using known datas but which has not been introduced to the model."
      ],
      "metadata": {
        "id": "OGZLsu42xVz9"
      }
    },
    {
      "cell_type": "code",
      "source": [
        "indexes = random.sample(range(20000,20100),10)\n",
        "test_data = df.iloc[indexes,0:8].values\n",
        "actual_values = df.iloc[indexes,-1].values\n",
        "test_scaled = scaler.transform(test_data)\n",
        "pred_values = ranfor.predict(test_scaled)\n",
        "print(pred_values)\n",
        "print(actual_values)"
      ],
      "metadata": {
        "colab": {
          "base_uri": "https://localhost:8080/"
        },
        "id": "La4BwLpGx40a",
        "outputId": "6fd157cb-df5f-431c-f234-4f542a2bf1ca"
      },
      "execution_count": null,
      "outputs": [
        {
          "output_type": "stream",
          "name": "stdout",
          "text": [
            "[25.39814362 27.94220491 26.74732694 25.73716457 25.91640161 27.07138613\n",
            " 26.19838268 26.94863507 26.00736428 25.20727169]\n",
            "[25.59630927 26.92348855 28.60161536 23.27451039 25.19394569 27.34619805\n",
            " 25.35899412 26.48657462 26.34904723 24.63482298]\n"
          ]
        }
      ]
    }
  ]
}